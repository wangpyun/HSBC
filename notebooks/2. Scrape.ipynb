{
 "cells": [
  {
   "cell_type": "code",
   "execution_count": 1,
   "metadata": {},
   "outputs": [
    {
     "name": "stderr",
     "output_type": "stream",
     "text": [
      "/Users/Pengyun_Wang/anaconda3/envs/HSBC/lib/python3.8/site-packages/tqdm/auto.py:21: TqdmWarning: IProgress not found. Please update jupyter and ipywidgets. See https://ipywidgets.readthedocs.io/en/stable/user_install.html\n",
      "  from .autonotebook import tqdm as notebook_tqdm\n"
     ]
    }
   ],
   "source": [
    "import pandas as pd\n",
    "import os\n",
    "import sys\n",
    "import json\n",
    "sys.path.append('../src/')\n",
    "from utils import get_web_data\n",
    "import multiprocessing"
   ]
  },
  {
   "cell_type": "code",
   "execution_count": 2,
   "metadata": {},
   "outputs": [],
   "source": [
    "data_dir = '/Users/Pengyun_Wang/Projects/HSBC/data'\n",
    "df = pd.read_csv(os.path.join(data_dir, 'popular_websites.csv'), header=None)\n",
    "urls = df.iloc[:, 1].tolist()\n",
    "urls = [\"https://\" + url for url in urls]"
   ]
  },
  {
   "cell_type": "code",
   "execution_count": 3,
   "metadata": {},
   "outputs": [
    {
     "name": "stdout",
     "output_type": "stream",
     "text": [
      "HTTPSConnectionPool(host='google-analytics.com', port=443): Max retries exceeded with url: / (Caused by SSLError(SSLZeroReturnError(6, 'TLS/SSL connection has been closed (EOF) (_ssl.c:1135)')))\n",
      "'NoneType' object has no attribute 'name'\n",
      "'NoneType' object has no attribute 'name'\n",
      "'NoneType' object has no attribute 'name'\n",
      "HTTPSConnectionPool(host='googleads.g.doubleclick.net', port=443): Max retries exceeded with url: / (Caused by SSLError(SSLZeroReturnError(6, 'TLS/SSL connection has been closed (EOF) (_ssl.c:1135)')))\n"
     ]
    },
    {
     "name": "stderr",
     "output_type": "stream",
     "text": [
      "Some characters could not be decoded, and were replaced with REPLACEMENT CHARACTER.\n"
     ]
    },
    {
     "name": "stdout",
     "output_type": "stream",
     "text": [
      "'NoneType' object has no attribute 'name'\n",
      "'NoneType' object has no attribute 'name'\n",
      "'NoneType' object has no attribute 'name'\n"
     ]
    },
    {
     "name": "stderr",
     "output_type": "stream",
     "text": [
      "/Users/Pengyun_Wang/anaconda3/envs/HSBC/lib/python3.8/html/parser.py:171: XMLParsedAsHTMLWarning: It looks like you're parsing an XML document using an HTML parser. If this really is an HTML document (maybe it's XHTML?), you can ignore or filter this warning. If it's XML, you should know that using an XML parser will be more reliable. To parse this document as XML, make sure you have the lxml package installed, and pass the keyword argument `features=\"xml\"` into the BeautifulSoup constructor.\n",
      "  k = self.parse_starttag(i)\n"
     ]
    },
    {
     "name": "stdout",
     "output_type": "stream",
     "text": [
      "'NoneType' object has no attribute 'name'\n",
      "HTTPSConnectionPool(host='pagead2.googlesyndication.com', port=443): Max retries exceeded with url: / (Caused by SSLError(SSLZeroReturnError(6, 'TLS/SSL connection has been closed (EOF) (_ssl.c:1135)')))\n"
     ]
    },
    {
     "name": "stderr",
     "output_type": "stream",
     "text": [
      "/Users/Pengyun_Wang/anaconda3/envs/HSBC/lib/python3.8/html/parser.py:171: XMLParsedAsHTMLWarning: It looks like you're parsing an XML document using an HTML parser. If this really is an HTML document (maybe it's XHTML?), you can ignore or filter this warning. If it's XML, you should know that using an XML parser will be more reliable. To parse this document as XML, make sure you have the lxml package installed, and pass the keyword argument `features=\"xml\"` into the BeautifulSoup constructor.\n",
      "  k = self.parse_starttag(i)\n"
     ]
    },
    {
     "name": "stdout",
     "output_type": "stream",
     "text": [
      "'NoneType' object has no attribute 'name'\n",
      "HTTPSConnectionPool(host='googleadservices.com', port=443): Max retries exceeded with url: / (Caused by SSLError(SSLZeroReturnError(6, 'TLS/SSL connection has been closed (EOF) (_ssl.c:1135)')))\n",
      "'NoneType' object has no attribute 'name'\n",
      "'NoneType' object has no attribute 'name'\n",
      "'NoneType' object has no attribute 'name'\n",
      "HTTPSConnectionPool(host='vk.com', port=443): Max retries exceeded with url: / (Caused by SSLError(SSLZeroReturnError(6, 'TLS/SSL connection has been closed (EOF) (_ssl.c:1135)')))\n",
      "HTTPSConnectionPool(host='www.instagram.com', port=443): Max retries exceeded with url: / (Caused by SSLError(SSLZeroReturnError(6, 'TLS/SSL connection has been closed (EOF) (_ssl.c:1135)')))\n",
      "'NoneType' object has no attribute 'name'\n",
      "HTTPSConnectionPool(host='www.makeuseof.com', port=443): Max retries exceeded with url: / (Caused by ProxyError('Unable to connect to proxy', RemoteDisconnected('Remote end closed connection without response')))\n",
      "HTTPSConnectionPool(host='googletagmanager.com', port=443): Max retries exceeded with url: / (Caused by SSLError(SSLZeroReturnError(6, 'TLS/SSL connection has been closed (EOF) (_ssl.c:1135)')))\n",
      "'NoneType' object has no attribute 'name'\n",
      "HTTPSConnectionPool(host='raw.githubusercontent.com', port=443): Max retries exceeded with url: / (Caused by SSLError(SSLZeroReturnError(6, 'TLS/SSL connection has been closed (EOF) (_ssl.c:1135)')))\n",
      "HTTPSConnectionPool(host='wix.com', port=443): Max retries exceeded with url: / (Caused by SSLError(SSLZeroReturnError(6, 'TLS/SSL connection has been closed (EOF) (_ssl.c:1135)')))\n",
      "'NoneType' object has no attribute 'name'\n",
      "'NoneType' object has no attribute 'name'\n",
      "HTTPSConnectionPool(host='un.org', port=443): Max retries exceeded with url: / (Caused by SSLError(SSLError(1, '[SSL: UNSAFE_LEGACY_RENEGOTIATION_DISABLED] unsafe legacy renegotiation disabled (_ssl.c:1135)')))\n"
     ]
    },
    {
     "name": "stderr",
     "output_type": "stream",
     "text": [
      "Some characters could not be decoded, and were replaced with REPLACEMENT CHARACTER.\n"
     ]
    },
    {
     "name": "stdout",
     "output_type": "stream",
     "text": [
      "'NoneType' object has no attribute 'name'\n",
      "HTTPSConnectionPool(host='ad.doubleclick.net', port=443): Max retries exceeded with url: / (Caused by SSLError(SSLZeroReturnError(6, 'TLS/SSL connection has been closed (EOF) (_ssl.c:1135)')))\n",
      "'NoneType' object has no attribute 'name'\n",
      "'NoneType' object has no attribute 'name'\n",
      "'NoneType' object has no attribute 'name'\n",
      "'NoneType' object has no attribute 'name'\n",
      "'NoneType' object has no attribute 'name'\n",
      "'NoneType' object has no attribute 'name'\n",
      "HTTPSConnectionPool(host='youtube-nocookie.com', port=443): Max retries exceeded with url: / (Caused by SSLError(SSLCertVerificationError(1, \"[SSL: CERTIFICATE_VERIFY_FAILED] certificate verify failed: Hostname mismatch, certificate is not valid for 'youtube-nocookie.com'. (_ssl.c:1135)\")))\n",
      "HTTPSConnectionPool(host='barnesandnoble.com', port=443): Max retries exceeded with url: / (Caused by SSLError(SSLCertVerificationError(1, '[SSL: CERTIFICATE_VERIFY_FAILED] certificate verify failed: unable to get local issuer certificate (_ssl.c:1135)')))\n",
      "'NoneType' object has no attribute 'name'\n",
      "'NoneType' object has no attribute 'name'\n",
      "HTTPSConnectionPool(host='ouest-france.fr', port=443): Max retries exceeded with url: / (Caused by SSLError(SSLZeroReturnError(6, 'TLS/SSL connection has been closed (EOF) (_ssl.c:1135)')))\n",
      "'NoneType' object has no attribute 'name'\n",
      "'NoneType' object has no attribute 'name'\n",
      "HTTPSConnectionPool(host='lg.com', port=443): Max retries exceeded with url: / (Caused by SSLError(SSLZeroReturnError(6, 'TLS/SSL connection has been closed (EOF) (_ssl.c:1135)')))\n",
      "('Connection aborted.', ConnectionResetError(54, 'Connection reset by peer'))\n",
      "HTTPSConnectionPool(host='www.netflix.com', port=443): Max retries exceeded with url: / (Caused by SSLError(SSLZeroReturnError(6, 'TLS/SSL connection has been closed (EOF) (_ssl.c:1135)')))\n",
      "'NoneType' object has no attribute 'name'\n",
      "HTTPSConnectionPool(host='www.udemy.com', port=443): Max retries exceeded with url: / (Caused by SSLError(SSLZeroReturnError(6, 'TLS/SSL connection has been closed (EOF) (_ssl.c:1135)')))\n",
      "HTTPSConnectionPool(host='www.pbs.org', port=443): Max retries exceeded with url: / (Caused by SSLError(SSLZeroReturnError(6, 'TLS/SSL connection has been closed (EOF) (_ssl.c:1135)')))\n",
      "HTTPSConnectionPool(host='www.politico.com', port=443): Max retries exceeded with url: / (Caused by SSLError(SSLZeroReturnError(6, 'TLS/SSL connection has been closed (EOF) (_ssl.c:1135)')))\n",
      "HTTPSConnectionPool(host='www.adobe.com', port=443): Max retries exceeded with url: / (Caused by ProxyError('Unable to connect to proxy', RemoteDisconnected('Remote end closed connection without response')))\n",
      "HTTPSConnectionPool(host='bit.do', port=443): Max retries exceeded with url: / (Caused by SSLError(SSLZeroReturnError(6, 'TLS/SSL connection has been closed (EOF) (_ssl.c:1135)')))\n",
      "HTTPSConnectionPool(host='spreaker.com', port=443): Max retries exceeded with url: / (Caused by SSLError(SSLZeroReturnError(6, 'TLS/SSL connection has been closed (EOF) (_ssl.c:1135)')))\n",
      "HTTPSConnectionPool(host='siteground.com', port=443): Max retries exceeded with url: / (Caused by SSLError(SSLZeroReturnError(6, 'TLS/SSL connection has been closed (EOF) (_ssl.c:1135)')))\n",
      "HTTPSConnectionPool(host='philips.co.uk', port=443): Max retries exceeded with url: / (Caused by SSLError(SSLZeroReturnError(6, 'TLS/SSL connection has been closed (EOF) (_ssl.c:1135)')))\n"
     ]
    },
    {
     "name": "stderr",
     "output_type": "stream",
     "text": [
      "/Users/Pengyun_Wang/anaconda3/envs/HSBC/lib/python3.8/html/parser.py:171: XMLParsedAsHTMLWarning: It looks like you're parsing an XML document using an HTML parser. If this really is an HTML document (maybe it's XHTML?), you can ignore or filter this warning. If it's XML, you should know that using an XML parser will be more reliable. To parse this document as XML, make sure you have the lxml package installed, and pass the keyword argument `features=\"xml\"` into the BeautifulSoup constructor.\n",
      "  k = self.parse_starttag(i)\n"
     ]
    },
    {
     "name": "stdout",
     "output_type": "stream",
     "text": [
      "'NoneType' object has no attribute 'name'\n",
      "HTTPSConnectionPool(host='flavors.me', port=443): Max retries exceeded with url: / (Caused by SSLError(SSLZeroReturnError(6, 'TLS/SSL connection has been closed (EOF) (_ssl.c:1135)')))\n",
      "HTTPSConnectionPool(host='storify.com', port=443): Max retries exceeded with url: / (Caused by SSLError(SSLZeroReturnError(6, 'TLS/SSL connection has been closed (EOF) (_ssl.c:1135)')))\n",
      "HTTPSConnectionPool(host='www.zdnet.com', port=443): Max retries exceeded with url: / (Caused by SSLError(SSLZeroReturnError(6, 'TLS/SSL connection has been closed (EOF) (_ssl.c:1135)')))\n",
      "HTTPSConnectionPool(host='geocities.com', port=443): Max retries exceeded with url: / (Caused by SSLError(SSLCertVerificationError(1, \"[SSL: CERTIFICATE_VERIFY_FAILED] certificate verify failed: Hostname mismatch, certificate is not valid for 'geocities.com'. (_ssl.c:1135)\")))\n"
     ]
    },
    {
     "name": "stderr",
     "output_type": "stream",
     "text": [
      "/Users/Pengyun_Wang/anaconda3/envs/HSBC/lib/python3.8/html/parser.py:171: XMLParsedAsHTMLWarning: It looks like you're parsing an XML document using an HTML parser. If this really is an HTML document (maybe it's XHTML?), you can ignore or filter this warning. If it's XML, you should know that using an XML parser will be more reliable. To parse this document as XML, make sure you have the lxml package installed, and pass the keyword argument `features=\"xml\"` into the BeautifulSoup constructor.\n",
      "  k = self.parse_starttag(i)\n"
     ]
    },
    {
     "name": "stdout",
     "output_type": "stream",
     "text": [
      "'NoneType' object has no attribute 'name'\n",
      "('Connection aborted.', ConnectionResetError(54, 'Connection reset by peer'))\n",
      "'NoneType' object has no attribute 'name'\n",
      "HTTPSConnectionPool(host='blog.livedoor.jp', port=443): Max retries exceeded with url: / (Caused by SSLError(SSLCertVerificationError(1, '[SSL: CERTIFICATE_VERIFY_FAILED] certificate verify failed: self-signed certificate (_ssl.c:1135)')))\n",
      "HTTPSConnectionPool(host='l.facebook.com', port=443): Max retries exceeded with url: / (Caused by SSLError(SSLZeroReturnError(6, 'TLS/SSL connection has been closed (EOF) (_ssl.c:1135)')))\n",
      "('Connection aborted.', ConnectionResetError(54, 'Connection reset by peer'))\n",
      "HTTPSConnectionPool(host='chrisjdavis.org', port=443): Max retries exceeded with url: / (Caused by SSLError(SSLZeroReturnError(6, 'TLS/SSL connection has been closed (EOF) (_ssl.c:1135)')))\n",
      "'NoneType' object has no attribute 'name'\n",
      "'NoneType' object has no attribute 'name'\n",
      "HTTPSConnectionPool(host='addthis.com', port=443): Max retries exceeded with url: / (Caused by SSLError(SSLCertVerificationError(1, \"[SSL: CERTIFICATE_VERIFY_FAILED] certificate verify failed: Hostname mismatch, certificate is not valid for 'addthis.com'. (_ssl.c:1135)\")))\n",
      "HTTPSConnectionPool(host='tkqlhce.com', port=443): Max retries exceeded with url: / (Caused by SSLError(SSLZeroReturnError(6, 'TLS/SSL connection has been closed (EOF) (_ssl.c:1135)')))\n",
      "HTTPSConnectionPool(host='stitcher.com', port=443): Max retries exceeded with url: / (Caused by SSLError(SSLCertVerificationError(1, \"[SSL: CERTIFICATE_VERIFY_FAILED] certificate verify failed: Hostname mismatch, certificate is not valid for 'stitcher.com'. (_ssl.c:1135)\")))\n",
      "'NoneType' object has no attribute 'name'\n",
      "HTTPSConnectionPool(host='mhlw.go.jp', port=443): Max retries exceeded with url: / (Caused by SSLError(SSLZeroReturnError(6, 'TLS/SSL connection has been closed (EOF) (_ssl.c:1135)')))\n",
      "'NoneType' object has no attribute 'name'\n",
      "HTTPSConnectionPool(host='www.newegg.com', port=443): Max retries exceeded with url: / (Caused by SSLError(SSLZeroReturnError(6, 'TLS/SSL connection has been closed (EOF) (_ssl.c:1135)')))\n",
      "HTTPSConnectionPool(host='chiark.greenend.org.uk', port=443): Max retries exceeded with url: / (Caused by SSLError(SSLZeroReturnError(6, 'TLS/SSL connection has been closed (EOF) (_ssl.c:1135)')))\n",
      "HTTPSConnectionPool(host='pipes.yahoo.com', port=443): Max retries exceeded with url: / (Caused by SSLError(SSLZeroReturnError(6, 'TLS/SSL connection has been closed (EOF) (_ssl.c:1135)')))\n",
      "HTTPSConnectionPool(host='googleads.g.doubleclick.net', port=443): Max retries exceeded with url: /ads/preferences/getcookie?sig=ACi0TCh_up4-q9rUU1l8YpTJf-rtIl1aPDNy2ze-JTwjbLzUTvLJPDVss2kPT5nlU7U2TEsqy4z3&continue=aHR0cHM6Ly9hZHNzZXR0aW5ncy5nb29nbGUuY29tL2Fub255bW91cw==&hl=en (Caused by SSLError(SSLZeroReturnError(6, 'TLS/SSL connection has been closed (EOF) (_ssl.c:1135)')))\n",
      "HTTPSConnectionPool(host='rhtlbn.mosgorcredit.ru', port=443): Max retries exceeded with url: / (Caused by SSLError(SSLZeroReturnError(6, 'TLS/SSL connection has been closed (EOF) (_ssl.c:1135)')))\n",
      "HTTPSConnectionPool(host='collegehumor.com', port=443): Max retries exceeded with url: / (Caused by SSLError(SSLZeroReturnError(6, 'TLS/SSL connection has been closed (EOF) (_ssl.c:1135)')))\n",
      "'NoneType' object has no attribute 'name'\n",
      "HTTPSConnectionPool(host='reacts.ru', port=443): Max retries exceeded with url: / (Caused by SSLError(SSLCertVerificationError(1, \"[SSL: CERTIFICATE_VERIFY_FAILED] certificate verify failed: Hostname mismatch, certificate is not valid for 'reacts.ru'. (_ssl.c:1135)\")))\n",
      "HTTPSConnectionPool(host='geocities.jp', port=443): Max retries exceeded with url: / (Caused by SSLError(SSLZeroReturnError(6, 'TLS/SSL connection has been closed (EOF) (_ssl.c:1135)')))\n",
      "('Connection aborted.', ConnectionResetError(54, 'Connection reset by peer'))\n",
      "'NoneType' object has no attribute 'name'\n",
      "HTTPSConnectionPool(host='cisco.com', port=443): Max retries exceeded with url: / (Caused by SSLError(SSLError(1, '[SSL: UNSAFE_LEGACY_RENEGOTIATION_DISABLED] unsafe legacy renegotiation disabled (_ssl.c:1135)')))\n",
      "HTTPSConnectionPool(host='notion.so', port=443): Max retries exceeded with url: / (Caused by SSLError(SSLZeroReturnError(6, 'TLS/SSL connection has been closed (EOF) (_ssl.c:1135)')))\n",
      "('Connection aborted.', ConnectionResetError(54, 'Connection reset by peer'))\n",
      "'NoneType' object has no attribute 'name'\n",
      "HTTPSConnectionPool(host='faa.gov', port=443): Max retries exceeded with url: / (Caused by SSLError(SSLZeroReturnError(6, 'TLS/SSL connection has been closed (EOF) (_ssl.c:1135)')))\n",
      "HTTPSConnectionPool(host='blogs.yahoo.co.jp', port=443): Max retries exceeded with url: / (Caused by SSLError(SSLZeroReturnError(6, 'TLS/SSL connection has been closed (EOF) (_ssl.c:1135)')))\n",
      "HTTPSConnectionPool(host='ssl.google-analytics.com', port=443): Max retries exceeded with url: / (Caused by SSLError(SSLZeroReturnError(6, 'TLS/SSL connection has been closed (EOF) (_ssl.c:1135)')))\n",
      "HTTPSConnectionPool(host='rakuten.com', port=443): Max retries exceeded with url: / (Caused by SSLError(SSLCertVerificationError(1, '[SSL: CERTIFICATE_VERIFY_FAILED] certificate verify failed: unable to get local issuer certificate (_ssl.c:1135)')))\n",
      "HTTPSConnectionPool(host='www.infusionsoft.com', port=443): Max retries exceeded with url: / (Caused by SSLError(SSLZeroReturnError(6, 'TLS/SSL connection has been closed (EOF) (_ssl.c:1135)')))\n"
     ]
    },
    {
     "name": "stderr",
     "output_type": "stream",
     "text": [
      "Some characters could not be decoded, and were replaced with REPLACEMENT CHARACTER.\n"
     ]
    },
    {
     "name": "stdout",
     "output_type": "stream",
     "text": [
      "'NoneType' object has no attribute 'name'\n",
      "'NoneType' object has no attribute 'name'\n",
      "'NoneType' object has no attribute 'name'\n",
      "HTTPSConnectionPool(host='www.united.com', port=443): Max retries exceeded with url: / (Caused by ProxyError('Unable to connect to proxy', RemoteDisconnected('Remote end closed connection without response')))\n",
      "HTTPSConnectionPool(host='eventim.de', port=443): Max retries exceeded with url: / (Caused by ProxyError('Unable to connect to proxy', RemoteDisconnected('Remote end closed connection without response')))\n",
      "HTTPSConnectionPool(host='news.discovery.com', port=443): Max retries exceeded with url: / (Caused by SSLError(SSLZeroReturnError(6, 'TLS/SSL connection has been closed (EOF) (_ssl.c:1135)')))\n",
      "'NoneType' object has no attribute 'name'\n",
      "HTTPSConnectionPool(host='stjude.org', port=443): Max retries exceeded with url: / (Caused by SSLError(SSLZeroReturnError(6, 'TLS/SSL connection has been closed (EOF) (_ssl.c:1135)')))\n",
      "HTTPSConnectionPool(host='en.advertisercommunity.com', port=443): Max retries exceeded with url: / (Caused by SSLError(SSLZeroReturnError(6, 'TLS/SSL connection has been closed (EOF) (_ssl.c:1135)')))\n",
      "HTTPSConnectionPool(host='blogs.adobe.com', port=443): Max retries exceeded with url: / (Caused by SSLError(SSLCertVerificationError(1, '[SSL: CERTIFICATE_VERIFY_FAILED] certificate verify failed: certificate has expired (_ssl.c:1135)')))\n",
      "HTTPSConnectionPool(host='rdio.com', port=443): Max retries exceeded with url: / (Caused by SSLError(SSLZeroReturnError(6, 'TLS/SSL connection has been closed (EOF) (_ssl.c:1135)')))\n",
      "'NoneType' object has no attribute 'name'\n",
      "HTTPSConnectionPool(host='stats.g.doubleclick.net', port=443): Max retries exceeded with url: / (Caused by SSLError(SSLZeroReturnError(6, 'TLS/SSL connection has been closed (EOF) (_ssl.c:1135)')))\n",
      "HTTPSConnectionPool(host='createspace.com', port=443): Max retries exceeded with url: / (Caused by SSLError(SSLZeroReturnError(6, 'TLS/SSL connection has been closed (EOF) (_ssl.c:1135)')))\n",
      "HTTPSConnectionPool(host='www.gamestop.com', port=443): Max retries exceeded with url: /toys-collectibles/thinkgeek (Caused by ProxyError('Unable to connect to proxy', RemoteDisconnected('Remote end closed connection without response')))\n",
      "HTTPSConnectionPool(host='accessdata.fda.gov', port=443): Max retries exceeded with url: / (Caused by SSLError(SSLZeroReturnError(6, 'TLS/SSL connection has been closed (EOF) (_ssl.c:1135)')))\n",
      "HTTPSConnectionPool(host='money.yandex.ru', port=443): Max retries exceeded with url: / (Caused by SSLError(SSLZeroReturnError(6, 'TLS/SSL connection has been closed (EOF) (_ssl.c:1135)')))\n",
      "'NoneType' object has no attribute 'name'\n",
      "'NoneType' object has no attribute 'name'\n",
      "HTTPSConnectionPool(host='tesla.com', port=443): Max retries exceeded with url: / (Caused by ProxyError('Unable to connect to proxy', RemoteDisconnected('Remote end closed connection without response')))\n",
      "HTTPSConnectionPool(host='lmgtfy.com', port=443): Max retries exceeded with url: / (Caused by SSLError(SSLCertVerificationError(1, '[SSL: CERTIFICATE_VERIFY_FAILED] certificate verify failed: certificate has expired (_ssl.c:1135)')))\n",
      "HTTPSConnectionPool(host='olympic.org', port=443): Max retries exceeded with url: / (Caused by ProxyError('Unable to connect to proxy', RemoteDisconnected('Remote end closed connection without response')))\n"
     ]
    }
   ],
   "source": [
    "# scrape the web data of the given URLs\n",
    "with multiprocessing.Pool() as pool:\n",
    "    output = pool.map(get_web_data, urls)"
   ]
  },
  {
   "cell_type": "code",
   "execution_count": 4,
   "metadata": {},
   "outputs": [
    {
     "name": "stdout",
     "output_type": "stream",
     "text": [
      "# Web data saved: 884\n"
     ]
    }
   ],
   "source": [
    "# save json file\n",
    "output = {url: data for url, data in zip(urls, output) if data}\n",
    "with open(os.path.join(data_dir, 'popular_web_data.json'), 'w') as f:\n",
    "    json.dump(output, f, indent=4)\n",
    "print(f\"# Web data saved: {len(output)}\")"
   ]
  },
  {
   "cell_type": "markdown",
   "metadata": {},
   "source": [
    "## 72 out of 80 urls successfully scraped"
   ]
  },
  {
   "cell_type": "code",
   "execution_count": null,
   "metadata": {},
   "outputs": [],
   "source": []
  }
 ],
 "metadata": {
  "kernelspec": {
   "display_name": "HSBC",
   "language": "python",
   "name": "python3"
  },
  "language_info": {
   "codemirror_mode": {
    "name": "ipython",
    "version": 3
   },
   "file_extension": ".py",
   "mimetype": "text/x-python",
   "name": "python",
   "nbconvert_exporter": "python",
   "pygments_lexer": "ipython3",
   "version": "3.8.19"
  }
 },
 "nbformat": 4,
 "nbformat_minor": 2
}
