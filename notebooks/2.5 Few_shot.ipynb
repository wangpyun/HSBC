{
 "cells": [
  {
   "cell_type": "code",
   "execution_count": 3,
   "metadata": {},
   "outputs": [],
   "source": [
    "from utils import get_web_data\n",
    "import os\n",
    "import json"
   ]
  },
  {
   "cell_type": "code",
   "execution_count": 2,
   "metadata": {},
   "outputs": [],
   "source": [
    "# few shot example\n",
    "url_1 = 'https://www.baidu.com'\n",
    "web_data_1 = get_web_data(url_1)\n",
    "summary_1 = '''\n",
    "The webpage has an `<html>` tag as the root element. Inside it, there's a `<head>` tag containing metadata like character encoding and compatibility settings, as well as a title for the webpage. The `<body>` tag contains the visible content of the webpage.\n",
    "\n",
    "Within the body, there's a hierarchy of nested `<div>` elements, which are used for grouping and organizing content. The deepest nested `<div>` contains an `<img>` tag for displaying an image, followed by a `<form>` tag for input submission. Inside the form, there are several `<input>` elements, likely for capturing user input, as well as a `<span>` element containing text and a submit button labeled \"百度一下\" (which translates to \"Baidu Search\").\n",
    "\n",
    "Further up the hierarchy, there are more nested `<div>` elements, possibly representing different sections of the webpage. Inside one of these sections, there are `<a>` tags with different names, likely serving as navigation links. Additionally, there's a `<noscript>` tag containing an `<a>` tag, possibly for users with JavaScript disabled.\n",
    "\n",
    "Overall, the structure suggests a typical webpage layout with various nested elements for structuring content, input forms, navigation links, and images.\n",
    "'''\n"
   ]
  },
  {
   "cell_type": "code",
   "execution_count": null,
   "metadata": {},
   "outputs": [],
   "source": [
    "demonstration = {}\n",
    "demonstration[url_1] = {\n",
    "    'web_data': web_data_1,\n",
    "    'summary': summary_1\n",
    "}\n",
    "data_dir = '/Users/Pengyun_Wang/Projects/HSBC/data'\n",
    "\n",
    "with open(os.path.join(data_dir, 'demonstration.json'), 'w') as f:\n",
    "    json.dump(demonstration, f, indent=4)"
   ]
  }
 ],
 "metadata": {
  "kernelspec": {
   "display_name": "HSBC",
   "language": "python",
   "name": "python3"
  },
  "language_info": {
   "codemirror_mode": {
    "name": "ipython",
    "version": 3
   },
   "file_extension": ".py",
   "mimetype": "text/x-python",
   "name": "python",
   "nbconvert_exporter": "python",
   "pygments_lexer": "ipython3",
   "version": "3.8.19"
  }
 },
 "nbformat": 4,
 "nbformat_minor": 2
}
