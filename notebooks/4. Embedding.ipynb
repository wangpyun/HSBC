{
 "cells": [
  {
   "cell_type": "code",
   "execution_count": 13,
   "metadata": {},
   "outputs": [],
   "source": [
    "import sys\n",
    "sys.path.append('../src')\n",
    "from utils import generate_embeddings\n",
    "import json\n",
    "from torch import Tensor\n",
    "from transformers import AutoTokenizer, AutoModel\n",
    "import numpy as np\n",
    "import os\n",
    "import multiprocessing"
   ]
  },
  {
   "cell_type": "code",
   "execution_count": 14,
   "metadata": {},
   "outputs": [],
   "source": [
    "data_file = '/Users/Pengyun_Wang/Projects/HSBC/data/overall_summary.json'\n",
    "with open(data_file, 'r') as f:\n",
    "    data = json.load(f)\n",
    "\n"
   ]
  },
  {
   "cell_type": "code",
   "execution_count": 15,
   "metadata": {},
   "outputs": [
    {
     "name": "stdout",
     "output_type": "stream",
     "text": [
      "Processing batch 1/9\n",
      "Processing batch 2/9\n",
      "Processing batch 3/9\n",
      "Processing batch 4/9\n",
      "Processing batch 5/9\n",
      "Processing batch 6/9\n",
      "Processing batch 7/9\n",
      "Processing batch 8/9\n",
      "Processing batch 9/9\n"
     ]
    }
   ],
   "source": [
    "input_texts = [response for _, response in data.items()]\n",
    "embeddings = []\n",
    "batch_size = 100\n",
    "num_batches = len(input_texts) // batch_size + 1\n",
    "for i in range(num_batches):\n",
    "    print(f'Processing batch {i+1}/{num_batches}')\n",
    "    _start = i*batch_size\n",
    "    _end = min((i+1)*batch_size, len(input_texts))\n",
    "    batch = input_texts[_start:_end]\n",
    "    batch_embeddings = generate_embeddings(batch)\n",
    "    embeddings.append(batch_embeddings)"
   ]
  },
  {
   "cell_type": "code",
   "execution_count": 17,
   "metadata": {},
   "outputs": [],
   "source": [
    "# save the embeddings\n",
    "data_dir = '/Users/Pengyun_Wang/Projects/HSBC/data/'\n",
    "np.save(os.path.join(data_dir, 'gte-embeddings.npy'), np.concatenate(embeddings, axis=0))"
   ]
  },
  {
   "cell_type": "code",
   "execution_count": null,
   "metadata": {},
   "outputs": [],
   "source": []
  }
 ],
 "metadata": {
  "kernelspec": {
   "display_name": "HSBC",
   "language": "python",
   "name": "python3"
  },
  "language_info": {
   "codemirror_mode": {
    "name": "ipython",
    "version": 3
   },
   "file_extension": ".py",
   "mimetype": "text/x-python",
   "name": "python",
   "nbconvert_exporter": "python",
   "pygments_lexer": "ipython3",
   "version": "3.8.19"
  }
 },
 "nbformat": 4,
 "nbformat_minor": 2
}
