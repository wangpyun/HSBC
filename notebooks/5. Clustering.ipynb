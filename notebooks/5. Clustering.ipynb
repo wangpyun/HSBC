{
 "cells": [
  {
   "cell_type": "code",
   "execution_count": 1,
   "metadata": {},
   "outputs": [
    {
     "name": "stderr",
     "output_type": "stream",
     "text": [
      "/Users/Pengyun_Wang/anaconda3/envs/HSBC/lib/python3.8/site-packages/tqdm/auto.py:21: TqdmWarning: IProgress not found. Please update jupyter and ipywidgets. See https://ipywidgets.readthedocs.io/en/stable/user_install.html\n",
      "  from .autonotebook import tqdm as notebook_tqdm\n"
     ]
    }
   ],
   "source": [
    "import sys\n",
    "sys.path.append('../src')\n",
    "from utils import *\n",
    "import json\n",
    "import numpy as np\n",
    "import os\n",
    "from sklearn.cluster import KMeans\n"
   ]
  },
  {
   "cell_type": "code",
   "execution_count": 2,
   "metadata": {},
   "outputs": [],
   "source": [
    "emb_file = '/Users/Pengyun_Wang/Projects/HSBC/data/gte-embeddings.npy'\n",
    "response_file = '/Users/Pengyun_Wang/Projects/HSBC/data/openai_responses.json'\n",
    "with open(response_file, 'r') as f:\n",
    "    response_data = json.load(f)\n",
    "\n",
    "embeddings = np.load(emb_file)"
   ]
  },
  {
   "cell_type": "code",
   "execution_count": 3,
   "metadata": {},
   "outputs": [],
   "source": [
    "from sklearn.decomposition import PCA\n",
    "from sklearn.cluster import KMeans\n",
    "from sklearn.pipeline import Pipeline\n",
    "from sklearn.preprocessing import StandardScaler\n",
    "from sklearn.metrics import silhouette_score\n",
    "\n",
    "def get_model(n_clusters, embeddings, n_components=50):\n",
    "    pca = PCA(n_components=n_components)\n",
    "    kmeans = KMeans(n_clusters=n_clusters)\n",
    "    pipeline = Pipeline([\n",
    "        ('scaling', StandardScaler()), \n",
    "        ('dimensionality_reduction', pca),\n",
    "        ('clustering', kmeans)\n",
    "    ])\n",
    "    pipeline.fit(embeddings)\n",
    "    return pipeline"
   ]
  },
  {
   "cell_type": "code",
   "execution_count": 3,
   "metadata": {},
   "outputs": [
    {
     "name": "stderr",
     "output_type": "stream",
     "text": [
      "/Users/Pengyun_Wang/anaconda3/envs/HSBC/lib/python3.8/site-packages/sklearn/cluster/_kmeans.py:1412: FutureWarning: The default value of `n_init` will change from 10 to 'auto' in 1.4. Set the value of `n_init` explicitly to suppress the warning\n",
      "  super()._check_params_vs_input(X, default_n_init=10)\n"
     ]
    }
   ],
   "source": [
    "# test the number of clusters\n",
    "for n_clusters in range(2, 11):\n",
    "    pipeline = get_model(n_clusters, embeddings)\n",
    "    labels = pipeline.predict(embeddings)\n",
    "    silhouette_avg = silhouette_score(embeddings, labels)\n",
    "    print(f'Number of clusters: {n_clusters}, silhouette score: {silhouette_avg}')"
   ]
  },
  {
   "cell_type": "code",
   "execution_count": 4,
   "metadata": {},
   "outputs": [
    {
     "name": "stderr",
     "output_type": "stream",
     "text": [
      "/Users/Pengyun_Wang/anaconda3/envs/HSBC/lib/python3.8/site-packages/sklearn/cluster/_kmeans.py:1412: FutureWarning: The default value of `n_init` will change from 10 to 'auto' in 1.4. Set the value of `n_init` explicitly to suppress the warning\n",
      "  super()._check_params_vs_input(X, default_n_init=10)\n"
     ]
    }
   ],
   "source": [
    "optimal_n_clusters = 5\n",
    "pipeline = get_model(optimal_n_clusters, embeddings, n_components=5)\n",
    "labels = pipeline.predict(embeddings)"
   ]
  },
  {
   "cell_type": "code",
   "execution_count": null,
   "metadata": {},
   "outputs": [],
   "source": []
  },
  {
   "cell_type": "code",
   "execution_count": 32,
   "metadata": {},
   "outputs": [],
   "source": [
    "from collections import defaultdict\n",
    "urls = list(response_data.keys())\n",
    "clusters = defaultdict(list)\n",
    "for i, r in enumerate(urls):\n",
    "    clusters[str(labels[i])].append(r)\n",
    "\n",
    "# write clusters to file\n",
    "cluster_file = '/Users/Pengyun_Wang/Projects/HSBC/data/clusters.json'\n",
    "with open(cluster_file, 'w') as f:\n",
    "    json.dump(clusters, f, indent=4)"
   ]
  }
 ],
 "metadata": {
  "kernelspec": {
   "display_name": "HSBC",
   "language": "python",
   "name": "python3"
  },
  "language_info": {
   "codemirror_mode": {
    "name": "ipython",
    "version": 3
   },
   "file_extension": ".py",
   "mimetype": "text/x-python",
   "name": "python",
   "nbconvert_exporter": "python",
   "pygments_lexer": "ipython3",
   "version": "3.8.19"
  }
 },
 "nbformat": 4,
 "nbformat_minor": 2
}
